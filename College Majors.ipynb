{
 "cells": [
  {
   "cell_type": "markdown",
   "metadata": {},
   "source": [
    "# Visualizing Job Outcomes of US College Graduates\n",
    "\n",
    "In this project, we investigate a dataset on job outcomes of US college graduates from 2010 to 2012. The data and its documentation are available [here](https://github.com/fivethirtyeight/data/tree/master/college-majors). Using visualization, we explore the answers to the following questions:\n",
    "* Do students in more popular majors make more money?\n",
    "* Do students in more popular majors have lower unemployment rate?\n",
    "* Do students in majors that produce the most full-time employees have higher earning?\n",
    "* How many majors are predominantly male? Predominantly female?\n",
    "\n",
    "\n",
    "# 1. Importing and Cleaning Data\n",
    "\n",
    "We begin by importing data using pandas and exploring its rows and columns."
   ]
  },
  {
   "cell_type": "code",
   "execution_count": 21,
   "metadata": {},
   "outputs": [
    {
     "name": "stdout",
     "output_type": "stream",
     "text": [
      "First five rows of the dataset:\n",
      "\n",
      "    Rank  Major_code                                      Major    Total  \\\n",
      "1     2        2416             MINING AND MINERAL ENGINEERING    756.0   \n",
      "2     3        2415                  METALLURGICAL ENGINEERING    856.0   \n",
      "3     4        2417  NAVAL ARCHITECTURE AND MARINE ENGINEERING   1258.0   \n",
      "4     5        2405                       CHEMICAL ENGINEERING  32260.0   \n",
      "5     6        2418                        NUCLEAR ENGINEERING   2573.0   \n",
      "\n",
      "       Men    Women Major_category  ShareWomen  Sample_size  Employed  \\\n",
      "1    679.0     77.0    Engineering    0.101852            7       640   \n",
      "2    725.0    131.0    Engineering    0.153037            3       648   \n",
      "3   1123.0    135.0    Engineering    0.107313           16       758   \n",
      "4  21239.0  11021.0    Engineering    0.341631          289     25694   \n",
      "5   2200.0    373.0    Engineering    0.144967           17      1857   \n",
      "\n",
      "       ...        Part_time  Full_time_year_round  Unemployed  \\\n",
      "1      ...              170                   388          85   \n",
      "2      ...              133                   340          16   \n",
      "3      ...              150                   692          40   \n",
      "4      ...             5180                 16697        1672   \n",
      "5      ...              264                  1449         400   \n",
      "\n",
      "   Unemployment_rate  Median  P25th   P75th  College_jobs  Non_college_jobs  \\\n",
      "1           0.117241   75000  55000   90000           350               257   \n",
      "2           0.024096   73000  50000  105000           456               176   \n",
      "3           0.050125   70000  43000   80000           529               102   \n",
      "4           0.061098   65000  50000   75000         18314              4440   \n",
      "5           0.177226   65000  50000  102000          1142               657   \n",
      "\n",
      "   Low_wage_jobs  \n",
      "1             50  \n",
      "2              0  \n",
      "3              0  \n",
      "4            972  \n",
      "5            244  \n",
      "\n",
      "[5 rows x 21 columns]\n"
     ]
    }
   ],
   "source": [
    "import pandas as pd\n",
    "import matplotlib.pyplot as plt\n",
    "%matplotlib inline\n",
    "\n",
    "recent_grads = pd.read_csv('recent-grads.csv')\n",
    "header = recent_grads.iloc[0,:]\n",
    "recent_grads = recent_grads.iloc[1:,:]\n",
    "print('First five rows of the dataset:\\n\\n',recent_grads.head())"
   ]
  },
  {
   "cell_type": "code",
   "execution_count": 22,
   "metadata": {},
   "outputs": [
    {
     "name": "stdout",
     "output_type": "stream",
     "text": [
      "Last five rows of the dataset:\n",
      "\n",
      "      Rank  Major_code                   Major   Total     Men   Women  \\\n",
      "168   169        3609                 ZOOLOGY  8409.0  3050.0  5359.0   \n",
      "169   170        5201  EDUCATIONAL PSYCHOLOGY  2854.0   522.0  2332.0   \n",
      "170   171        5202     CLINICAL PSYCHOLOGY  2838.0   568.0  2270.0   \n",
      "171   172        5203   COUNSELING PSYCHOLOGY  4626.0   931.0  3695.0   \n",
      "172   173        3501         LIBRARY SCIENCE  1098.0   134.0   964.0   \n",
      "\n",
      "               Major_category  ShareWomen  Sample_size  Employed  \\\n",
      "168    Biology & Life Science    0.637293           47      6259   \n",
      "169  Psychology & Social Work    0.817099            7      2125   \n",
      "170  Psychology & Social Work    0.799859           13      2101   \n",
      "171  Psychology & Social Work    0.798746           21      3777   \n",
      "172                 Education    0.877960            2       742   \n",
      "\n",
      "         ...        Part_time  Full_time_year_round  Unemployed  \\\n",
      "168      ...             2190                  3602         304   \n",
      "169      ...              572                  1211         148   \n",
      "170      ...              648                  1293         368   \n",
      "171      ...              965                  2738         214   \n",
      "172      ...              237                   410          87   \n",
      "\n",
      "     Unemployment_rate  Median  P25th  P75th  College_jobs  Non_college_jobs  \\\n",
      "168           0.046320   26000  20000  39000          2771              2947   \n",
      "169           0.065112   25000  24000  34000          1488               615   \n",
      "170           0.149048   25000  25000  40000           986               870   \n",
      "171           0.053621   23400  19200  26000          2403              1245   \n",
      "172           0.104946   22000  20000  22000           288               338   \n",
      "\n",
      "     Low_wage_jobs  \n",
      "168            743  \n",
      "169             82  \n",
      "170            622  \n",
      "171            308  \n",
      "172            192  \n",
      "\n",
      "[5 rows x 21 columns]\n"
     ]
    }
   ],
   "source": [
    "print('Last five rows of the dataset:\\n\\n',recent_grads.tail())"
   ]
  },
  {
   "cell_type": "code",
   "execution_count": 23,
   "metadata": {},
   "outputs": [
    {
     "name": "stdout",
     "output_type": "stream",
     "text": [
      "Basic statistics of the columns:\n",
      "\n",
      "              Rank   Major_code          Total            Men          Women  \\\n",
      "count  172.000000   172.000000     171.000000     171.000000     171.000000   \n",
      "mean    87.500000  3888.308140   39586.637427   16809.175439   22777.461988   \n",
      "std     49.796252  1688.969108   63606.184982   28182.454369   41141.960117   \n",
      "min      2.000000  1100.000000     124.000000     119.000000       0.000000   \n",
      "25%     44.750000  2402.750000    4628.500000    2268.500000    1829.000000   \n",
      "50%     87.500000  3608.500000   15150.000000    5521.000000    8489.000000   \n",
      "75%    130.250000  5503.250000   38975.500000   14822.000000   22651.500000   \n",
      "max    173.000000  6403.000000  393735.000000  173809.000000  307087.000000   \n",
      "\n",
      "       ShareWomen  Sample_size       Employed      Full_time      Part_time  \\\n",
      "count  171.000000   172.000000     172.000000     172.000000     172.000000   \n",
      "mean     0.524572   357.941860   31362.627907   26169.889535    8882.180233   \n",
      "std      0.229817   619.680419   50773.538281   42954.809233   14676.263790   \n",
      "min      0.000000     2.000000       0.000000     111.000000       0.000000   \n",
      "25%      0.340248    42.000000    3734.750000    3181.000000    1037.500000   \n",
      "50%      0.535714   131.000000   12031.500000   10073.500000    3332.500000   \n",
      "75%      0.704578   339.000000   31701.250000   25447.250000    9981.000000   \n",
      "max      0.968954  4212.000000  307933.000000  251540.000000  115172.000000   \n",
      "\n",
      "       Full_time_year_round    Unemployed  Unemployment_rate        Median  \\\n",
      "count            172.000000    172.000000         172.000000    172.000000   \n",
      "mean           19801.912791   2430.162791           0.068480  39745.348837   \n",
      "std            33227.524272   4120.772958           0.030179  10180.248701   \n",
      "min              111.000000      0.000000           0.000000  22000.000000   \n",
      "25%             2474.750000    307.000000           0.050723  33000.000000   \n",
      "50%             7436.500000    905.000000           0.068272  36000.000000   \n",
      "75%            17674.750000   2397.000000           0.087599  45000.000000   \n",
      "max           199897.000000  28169.000000           0.177226  75000.000000   \n",
      "\n",
      "              P25th          P75th   College_jobs  Non_college_jobs  \\\n",
      "count    172.000000     172.000000     172.000000        172.000000   \n",
      "mean   29120.639535   51066.860465   12385.360465      13359.616279   \n",
      "std     7698.898391   13846.147332   21346.027989      23838.527832   \n",
      "min    18500.000000   22000.000000       0.000000          0.000000   \n",
      "25%    24000.000000   41750.000000    1744.750000       1594.000000   \n",
      "50%    27000.000000   47000.000000    4467.500000       4603.500000   \n",
      "75%    33000.000000   58500.000000   14595.750000      11791.750000   \n",
      "max    55000.000000  109000.000000  151643.000000     148395.000000   \n",
      "\n",
      "       Low_wage_jobs  \n",
      "count     172.000000  \n",
      "mean     3880.331395  \n",
      "std      6959.598985  \n",
      "min         0.000000  \n",
      "25%       342.250000  \n",
      "50%      1238.500000  \n",
      "75%      3496.000000  \n",
      "max     48207.000000  \n"
     ]
    }
   ],
   "source": [
    "print('Basic statistics of the columns:\\n\\n',recent_grads.describe())"
   ]
  },
  {
   "cell_type": "code",
   "execution_count": 24,
   "metadata": {},
   "outputs": [
    {
     "name": "stdout",
     "output_type": "stream",
     "text": [
      "<class 'pandas.core.frame.DataFrame'>\n",
      "RangeIndex: 172 entries, 1 to 172\n",
      "Data columns (total 21 columns):\n",
      "Rank                    172 non-null int64\n",
      "Major_code              172 non-null int64\n",
      "Major                   172 non-null object\n",
      "Total                   171 non-null float64\n",
      "Men                     171 non-null float64\n",
      "Women                   171 non-null float64\n",
      "Major_category          172 non-null object\n",
      "ShareWomen              171 non-null float64\n",
      "Sample_size             172 non-null int64\n",
      "Employed                172 non-null int64\n",
      "Full_time               172 non-null int64\n",
      "Part_time               172 non-null int64\n",
      "Full_time_year_round    172 non-null int64\n",
      "Unemployed              172 non-null int64\n",
      "Unemployment_rate       172 non-null float64\n",
      "Median                  172 non-null int64\n",
      "P25th                   172 non-null int64\n",
      "P75th                   172 non-null int64\n",
      "College_jobs            172 non-null int64\n",
      "Non_college_jobs        172 non-null int64\n",
      "Low_wage_jobs           172 non-null int64\n",
      "dtypes: float64(5), int64(14), object(2)\n",
      "memory usage: 28.3+ KB\n",
      "None\n"
     ]
    }
   ],
   "source": [
    "print(recent_grads.info())"
   ]
  },
  {
   "cell_type": "markdown",
   "metadata": {},
   "source": [
    "We see that the dataset has 21 columns, some of which contain only one null values. In this project, we are intersted in some of the columns whose descriptions of are copied from the dataset [documentation](https://github.com/fivethirtyeight/data/tree/master/college-majors) for reference.\n",
    "\n",
    "`Men`: Male graduates\n",
    "<br>`Women`: Female graduates\n",
    "<br>`ShareWomen`: Women as share of total\n",
    "<br>`Sample_size`: Sample size (unweighted) of full-time, year-round ONLY (used for earnings)\n",
    "<br>`Unemployment_rate`: Unemployed / (Unemployed + Employed)\n",
    "<br>`Median`: Median earnings of full-time, year-round workers\n",
    "<br>`Total`: Total number of people with major\n",
    "\n",
    "Since some of the columns has only one null values, we will simply delete the row that has null."
   ]
  },
  {
   "cell_type": "code",
   "execution_count": 25,
   "metadata": {},
   "outputs": [
    {
     "name": "stdout",
     "output_type": "stream",
     "text": [
      "Original row count: 172\n",
      "Cleaned row count: 171\n"
     ]
    }
   ],
   "source": [
    "raw_data_count = len(recent_grads.index)\n",
    "recent_grads = recent_grads.dropna()\n",
    "cleaned_data_count = len(recent_grads.index)\n",
    "print('Original row count:',raw_data_count)\n",
    "print('Cleaned row count:',cleaned_data_count)"
   ]
  },
  {
   "cell_type": "markdown",
   "metadata": {},
   "source": [
    "# 2. Data Visualization\n",
    "\n",
    "In this section, we seek the answers to the proposed questions through various kinds of visualization.\n",
    "First, we want to know if students in popular majors make more money. To this end, we look at the `Median` column for median earning and the `Total` column for the total number of students each major. "
   ]
  },
  {
   "cell_type": "code",
   "execution_count": 27,
   "metadata": {},
   "outputs": [
    {
     "data": {
      "text/plain": [
       "<matplotlib.axes._subplots.AxesSubplot at 0x221ee7895c0>"
      ]
     },
     "execution_count": 27,
     "metadata": {},
     "output_type": "execute_result"
    },
    {
     "data": {
      "image/png": "[encoded data removed]",
      "text/plain": [
       "<Figure size 432x288 with 1 Axes>"
      ]
     },
     "metadata": {
      "needs_background": "light"
     },
     "output_type": "display_data"
    }
   ],
   "source": [
    "recent_grads.plot(x='Total', y='Median', kind='scatter', title='Total number of students in the major vs Median earning')"
   ]
  },
  {
   "cell_type": "markdown",
   "metadata": {},
   "source": [
    "We see that it is not the case that students in popular majors make more money. In other words, the popularity of the major does not imply higher earning. In fact, students that top the earning come from some less popular majors.\n",
    "\n",
    "Next, we see if students in popular majors have lower unemployment rate."
   ]
  },
  {
   "cell_type": "code",
   "execution_count": 28,
   "metadata": {},
   "outputs": [
    {
     "data": {
      "text/plain": [
       "<matplotlib.axes._subplots.AxesSubplot at 0x221ee7f67f0>"
      ]
     },
     "execution_count": 28,
     "metadata": {},
     "output_type": "execute_result"
    },
    {
     "data": {
      "image/png": "[encoded data removed]",
      "text/plain": [
       "<Figure size 432x288 with 1 Axes>"
      ]
     },
     "metadata": {
      "needs_background": "light"
     },
     "output_type": "display_data"
    }
   ],
   "source": [
    "recent_grads.plot(x='Total', y='Unemployment_rate', kind='scatter', title='Total number of students in the major vs Unemployment Rate')"
   ]
  },
  {
   "cell_type": "markdown",
   "metadata": {},
   "source": [
    "We observe that although students in popular majors have relatively low unemployment rate (about 7.5%), there is not enough evidence from the data to say that popular majors lowers the unemployment rate.\n",
    "\n",
    "Moreover, as illustrated in the graph below, it is not that the students in majors with the highest number of full-time employees receive higher salary. "
   ]
  },
  {
   "cell_type": "code",
   "execution_count": 29,
   "metadata": {},
   "outputs": [
    {
     "data": {
      "text/plain": [
       "<matplotlib.axes._subplots.AxesSubplot at 0x221ee7bc278>"
      ]
     },
     "execution_count": 29,
     "metadata": {},
     "output_type": "execute_result"
    },
    {
     "data": {
      "image/png": "[encoded data removed]",
      "text/plain": [
       "<Figure size 432x288 with 1 Axes>"
      ]
     },
     "metadata": {
      "needs_background": "light"
     },
     "output_type": "display_data"
    }
   ],
   "source": [
    "recent_grads.plot(x='Full_time', y='Median', kind='scatter', title='The number of full-time employees vs Median earning')"
   ]
  },
  {
   "cell_type": "markdown",
   "metadata": {},
   "source": [
    "Next, we will answer the question: how many majors are predominantly male? Predominantly female? To this end, we look at the histogram of the `ShareWomen` column, which indicate the fraction of women in the majors."
   ]
  },
  {
   "cell_type": "code",
   "execution_count": 34,
   "metadata": {},
   "outputs": [
    {
     "data": {
      "text/plain": [
       "<matplotlib.axes._subplots.AxesSubplot at 0x221f09299e8>"
      ]
     },
     "execution_count": 34,
     "metadata": {},
     "output_type": "execute_result"
    },
    {
     "data": {
      "image/png": "[encoded data removed]",
      "text/plain": [
       "<Figure size 432x288 with 1 Axes>"
      ]
     },
     "metadata": {
      "needs_background": "light"
     },
     "output_type": "display_data"
    }
   ],
   "source": [
    "recent_grads['ShareWomen'].plot.hist(title='Men hist')"
   ]
  },
  {
   "cell_type": "markdown",
   "metadata": {},
   "source": [
    "We see that there are about 30 majors in which 70% of the students are male, while there are 47 majors in which 70% of the students are female.\n",
    "\n",
    "# 3. Concluding Remarks\n",
    "\n",
    "In this project, we use some basic data visualization techniques to answer some interesting questions proposed above. "
   ]
  }
 ],
 "metadata": {
  "kernelspec": {
   "display_name": "Python 3",
   "language": "python",
   "name": "python3"
  },
  "language_info": {
   "codemirror_mode": {
    "name": "ipython",
    "version": 3
   },
   "file_extension": ".py",
   "mimetype": "text/x-python",
   "name": "python",
   "nbconvert_exporter": "python",
   "pygments_lexer": "ipython3",
   "version": "3.7.1"
  }
 },
 "nbformat": 4,
 "nbformat_minor": 1
}
